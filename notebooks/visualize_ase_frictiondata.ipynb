{
 "cells": [
  {
   "cell_type": "code",
   "execution_count": 1,
   "metadata": {},
   "outputs": [],
   "source": [
    "from ase.db import connect\n",
    "import pandas as pd\n",
    "import numpy as np"
   ]
  },
  {
   "cell_type": "code",
   "execution_count": 2,
   "metadata": {},
   "outputs": [],
   "source": [
    "fname = \"/h2cu_20220713_friction.db\" # input file (ase db file)\n",
    "path=\"/Users/msachs2/Documents/Projects/data/friction_tensors/H2Cu\" # path to directory where db file is located\n",
    "\n",
    "p2f = path + fname\n",
    "\n",
    "geometries = []\n",
    "data = {}\n",
    "with connect(p2f) as db:\n",
    "    for idx in range(len(db)):\n",
    "        geometries.append(db[idx+1].toatoms())\n",
    "        data[idx] = db[idx+1].data"
   ]
  },
  {
   "cell_type": "code",
   "execution_count": 8,
   "metadata": {},
   "outputs": [
    {
     "data": {
      "text/plain": [
       "<Popen: returncode: None args: ['/Users/msachs2/opt/anaconda3/envs/pytensorf...>"
      ]
     },
     "execution_count": 8,
     "metadata": {},
     "output_type": "execute_result"
    }
   ],
   "source": [
    "from ase.visualize import view\n",
    "atoms = geometries[116]\n",
    "view(atoms)\n"
   ]
  },
  {
   "cell_type": "code",
   "execution_count": 5,
   "metadata": {},
   "outputs": [
    {
     "name": "stdout",
     "output_type": "stream",
     "text": [
      "/Users/msachs2/Documents/Projects/data/friction_tensors/H2Cu/h2cu_20220713_friction2\n"
     ]
    }
   ],
   "source": [
    "view(atoms, viewer='x3d')"
   ]
  }
 ],
 "metadata": {
  "kernelspec": {
   "display_name": "Python 3.9.5 ('pytensorfit')",
   "language": "python",
   "name": "python3"
  },
  "language_info": {
   "codemirror_mode": {
    "name": "ipython",
    "version": 3
   },
   "file_extension": ".py",
   "mimetype": "text/x-python",
   "name": "python",
   "nbconvert_exporter": "python",
   "pygments_lexer": "ipython3",
   "version": "3.9.5 (default, May 18 2021, 12:31:01) \n[Clang 10.0.0 ]"
  },
  "orig_nbformat": 4,
  "vscode": {
   "interpreter": {
    "hash": "8b6477661830c43afe7bc6b369f8c0d217bd7c4bda80983965fe02348f8331d9"
   }
  }
 },
 "nbformat": 4,
 "nbformat_minor": 2
}

{
 "cells": [
  {
   "cell_type": "code",
   "execution_count": 2,
   "metadata": {},
   "outputs": [],
   "source": [
    "from ase.db import connect\n",
    "import pandas as pd\n",
    "import numpy as np"
   ]
  },
  {
   "cell_type": "code",
   "execution_count": 3,
   "metadata": {},
   "outputs": [],
   "source": [
    "fname = \"/h2cu_20220713_friction.db\" # input file (ase db file)\n",
    "path=\"/Users/msachs2/Documents/Projects/data/friction_tensors/H2Cu\" # path to directory where db file is located\n",
    "\n",
    "outname = \"/h2cu_20220713_friction2\" # name of output file (without postfix)\n",
    "outpath = \"/Users/msachs2/Documents/Projects/data/friction_tensors/H2Cu\"\n",
    "\n",
    "p2f = path + fname\n",
    "\n",
    "geometries = []\n",
    "data = {}\n",
    "with connect(p2f) as db:\n",
    "    for idx in range(len(db)):\n",
    "        geometries.append(db[idx+1].toatoms())\n",
    "        data[idx] = db[idx+1].data"
   ]
  },
  {
   "cell_type": "markdown",
   "metadata": {},
   "source": [
    "Write Data to JSON file"
   ]
  },
  {
   "cell_type": "code",
   "execution_count": 5,
   "metadata": {},
   "outputs": [
    {
     "name": "stdout",
     "output_type": "stream",
     "text": [
      "/Users/msachs2/Documents/Projects/data/friction_tensors/H2Cu/h2cu_20220713_friction2\n"
     ]
    }
   ],
   "source": [
    "df = pd.DataFrame([( g.get_positions(),\n",
    "                    g.get_atomic_numbers(),\n",
    "                    np.array(g.get_cell()),\n",
    "                    g.get_pbc(),\n",
    "                    data[i]['energy'], \n",
    "                    data[i]['forces'], \n",
    "                    data[i]['hirshfeld_volumes'],\n",
    "                    data[i]['friction_indices'],\n",
    "                    data[i]['friction_tensor'],\n",
    "                    data[i]['no_friction']) \n",
    "                   for g,i in zip(geometries,data)],\n",
    "                  columns=['positions','atypes','cell','pbc',\n",
    "                  'energy','forces','hirshfeld_volumes','friction_indices','friction_tensor','no_friction']\n",
    "                 )\n",
    "p2f = path + fname\n",
    "if outpath is None:\n",
    "    outpath = path\n",
    "p2of = outpath + outname \n",
    "\n",
    "print(p2of)\n",
    "df.to_json(p2of + \".json\")\n",
    "\n"
   ]
  }
 ],
 "metadata": {
  "kernelspec": {
   "display_name": "Python 3.9.5 ('pytensorfit')",
   "language": "python",
   "name": "python3"
  },
  "language_info": {
   "codemirror_mode": {
    "name": "ipython",
    "version": 3
   },
   "file_extension": ".py",
   "mimetype": "text/x-python",
   "name": "python",
   "nbconvert_exporter": "python",
   "pygments_lexer": "ipython3",
   "version": "3.9.5 (default, May 18 2021, 12:31:01) \n[Clang 10.0.0 ]"
  },
  "orig_nbformat": 4,
  "vscode": {
   "interpreter": {
    "hash": "8b6477661830c43afe7bc6b369f8c0d217bd7c4bda80983965fe02348f8331d9"
   }
  }
 },
 "nbformat": 4,
 "nbformat_minor": 2
}

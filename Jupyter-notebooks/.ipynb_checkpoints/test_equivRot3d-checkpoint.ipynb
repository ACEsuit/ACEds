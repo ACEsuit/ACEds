{
 "cells": [
  {
   "cell_type": "code",
   "execution_count": 1,
   "metadata": {},
   "outputs": [
    {
     "name": "stderr",
     "output_type": "stream",
     "text": [
      "┌ Info: Precompiling ACEds [286ca7f0-9926-4809-930a-857c1b5bb5cd]\n",
      "└ @ Base loading.jl:1278\n"
     ]
    }
   ],
   "source": [
    "using ACEds\n",
    "using StaticArrays"
   ]
  },
  {
   "cell_type": "code",
   "execution_count": 9,
   "metadata": {},
   "outputs": [
    {
     "ename": "LoadError",
     "evalue": "UndefVarError: equiRotations3D not defined",
     "output_type": "error",
     "traceback": [
      "UndefVarError: equiRotations3D not defined",
      "",
      "Stacktrace:",
      " [1] include_string(::Function, ::Module, ::String, ::String) at ./loading.jl:1091"
     ]
    }
   ],
   "source": [
    "using ACEds.equiRotations3D"
   ]
  },
  {
   "cell_type": "code",
   "execution_count": 3,
   "metadata": {},
   "outputs": [
    {
     "ename": "LoadError",
     "evalue": "UndefVarError: Rotations3D not defined",
     "output_type": "error",
     "traceback": [
      "UndefVarError: Rotations3D not defined",
      "",
      "Stacktrace:",
      " [1] getproperty(::Module, ::Symbol) at ./Base.jl:26",
      " [2] top-level scope at In[3]:2",
      " [3] include_string(::Function, ::Module, ::String, ::String) at ./loading.jl:1091"
     ]
    }
   ],
   "source": [
    "#(j1, m1, j2, m2, J, M, T=Float64)\n",
    "ACEds.equivRotations3D.clebschgordan(5, -4, 5, 4, 2, 0)"
   ]
  },
  {
   "cell_type": "code",
   "execution_count": 4,
   "metadata": {},
   "outputs": [
    {
     "ename": "LoadError",
     "evalue": "UndefVarError: ClebschGordan not defined",
     "output_type": "error",
     "traceback": [
      "UndefVarError: ClebschGordan not defined",
      "",
      "Stacktrace:",
      " [1] top-level scope at In[4]:1",
      " [2] include_string(::Function, ::Module, ::String, ::String) at ./loading.jl:1091"
     ]
    }
   ],
   "source": [
    "cg=ClebschGordan()"
   ]
  },
  {
   "cell_type": "code",
   "execution_count": 5,
   "metadata": {},
   "outputs": [
    {
     "ename": "LoadError",
     "evalue": "UndefVarError: cg not defined",
     "output_type": "error",
     "traceback": [
      "UndefVarError: cg not defined",
      "",
      "Stacktrace:",
      " [1] top-level scope at In[5]:1",
      " [2] include_string(::Function, ::Module, ::String, ::String) at ./loading.jl:1091"
     ]
    }
   ],
   "source": [
    "cg(5, -4, 5, 4, 2, 0)"
   ]
  },
  {
   "cell_type": "code",
   "execution_count": 6,
   "metadata": {},
   "outputs": [
    {
     "data": {
      "text/plain": [
       "Dict{Any,Int64} with 2 entries:\n",
       "  \"A\" => 1\n",
       "  3   => 2"
      ]
     },
     "execution_count": 6,
     "metadata": {},
     "output_type": "execute_result"
    }
   ],
   "source": [
    " Dict([(\"A\", 1), (3, 2)])"
   ]
  },
  {
   "cell_type": "code",
   "execution_count": 7,
   "metadata": {},
   "outputs": [
    {
     "data": {
      "text/plain": [
       "2-element SArray{Tuple{2},Int64,1,2} with indices SOneTo(2):\n",
       " -1\n",
       "  1"
      ]
     },
     "execution_count": 7,
     "metadata": {},
     "output_type": "execute_result"
    }
   ],
   "source": [
    "ll = @SVector [1, 1]\n",
    "mm = @SVector [-1, 1]\n",
    "kk = @SVector [-1, 1]"
   ]
  },
  {
   "cell_type": "code",
   "execution_count": 8,
   "metadata": {},
   "outputs": [
    {
     "ename": "LoadError",
     "evalue": "UndefVarError: Rotations3D not defined",
     "output_type": "error",
     "traceback": [
      "UndefVarError: Rotations3D not defined",
      "",
      "Stacktrace:",
      " [1] getproperty(::Module, ::Symbol) at ./Base.jl:26",
      " [2] top-level scope at In[8]:1",
      " [3] include_string(::Function, ::Module, ::String, ::String) at ./loading.jl:1091"
     ]
    }
   ],
   "source": [
    "rotc = ACEds.Rotations3D.Rot3DCoeffs(Float64)\n",
    "rotc(ll,mm,kk)"
   ]
  },
  {
   "cell_type": "code",
   "execution_count": 20,
   "metadata": {},
   "outputs": [
    {
     "data": {
      "text/plain": [
       "1-element SArray{Tuple{1},Int64,1,1} with indices SOneTo(1):\n",
       " 0"
      ]
     },
     "execution_count": 20,
     "metadata": {},
     "output_type": "execute_result"
    }
   ],
   "source": [
    "zz = SVector(Int(0))"
   ]
  },
  {
   "cell_type": "code",
   "execution_count": null,
   "metadata": {},
   "outputs": [],
   "source": [
    "rpi_basis(A::Rot3DCoeffs,\n",
    "\t\t\t\t\t\t zz::SVector{N},\n",
    "\t\t\t\t\t\t nn::SVector{N, Int},\n",
    "\t\t\t\t\t\t ll::SVector{N, Int})"
   ]
  },
  {
   "cell_type": "code",
   "execution_count": 8,
   "metadata": {},
   "outputs": [
    {
     "data": {
      "text/plain": [
       "get_basis (generic function with 1 method)"
      ]
     },
     "execution_count": 8,
     "metadata": {},
     "output_type": "execute_result"
    }
   ],
   "source": [
    "\n",
    "# --------------------------------------------------------------------------\n",
    "# ACE.jl and SHIPs.jl: Julia implementation of the Atomic Cluster Expansion\n",
    "# Copyright (c) 2019 Christoph Ortner <christophortner0@gmail.com>\n",
    "# All rights reserved.\n",
    "# --------------------------------------------------------------------------\n",
    "\n",
    "using JuLIP, ACE, JuLIP.Potentials, LinearAlgebra\n",
    "using ACE.Testing: lsq, get_V0\n",
    "using LinearAlgebra: qr, cond\n",
    "using Plots\n",
    "\n",
    "function rand_config(V; rattle = 0.4, nrepeat = 3)\n",
    "   at = bulk(:W, cubic=true, pbc=false) * nrepeat\n",
    "   return rattle!(at, rattle)\n",
    "end\n",
    "\n",
    "function get_basis(species; N = 3, maxdeg = 10, rcut = 7.0 )\n",
    "   rcut = 7.0\n",
    "   basis = ACE.Utils.rpi_basis(; species=species, N = N, r0 = 2.5,\n",
    "   maxdeg = maxdeg, rcut = rcut,\n",
    "   rin = rnn(:W) * 0.6,\n",
    "   constants = false )\n",
    "   return basis\n",
    "end"
   ]
  },
  {
   "cell_type": "code",
   "execution_count": 4,
   "metadata": {},
   "outputs": [
    {
     "data": {
      "text/plain": [
       "RPIBasis{Float64,BasicPSH1pBasis{Float64,1,ACE.OrthPolys.TransformedPolys{Float64,PolyTransform{Int64,Float64},ACE.OrthPolys.OrthPolyBasis{Float64}}},1,ACE.DAGEvaluator}(PIBasis{BasicPSH1pBasis{Float64,1,ACE.OrthPolys.TransformedPolys{Float64,PolyTransform{Int64,Float64},ACE.OrthPolys.OrthPolyBasis{Float64}}},1,ACE.DAGEvaluator}(BasicPSH1pBasis{Float64,1,ACE.OrthPolys.TransformedPolys{Float64,PolyTransform{Int64,Float64},ACE.OrthPolys.OrthPolyBasis{Float64}}}(ACE.OrthPolys.TransformedPolys{Float64,PolyTransform{Int64,Float64},ACE.OrthPolys.OrthPolyBasis{Float64}}(ACE.OrthPolys.OrthPolyBasis{Float64}(2, 0.19140625, 0, 1.754994348813717, [0.91461953023687, 4.540396126142121, 3.384217383352841, 3.030250391403783, 2.868010217617044, 2.7785335608855006, 2.7234742308811435, 2.6870103224742574, 2.661543491265792, 2.643023480375524, 2.6291191148231188, 2.6184069139840105], [0.0, -6.785148853260868, -4.1754356081830055, -3.4228366277221136, -3.0900921031437494, -2.9109283164238535, -2.802542845481041, -2.7316676285579478, -2.682648409645609, -2.6472738315026034, -2.620878646762192, -2.600644355481954], [0.0, 0.0, -0.7453572968815542, -0.895406544009206, -0.9464598126125052, -0.968801834741774, -0.9801840327648038, -0.9866112526443652, -0.9905222428825474, -0.9930416275552078, -0.9947392198156143, -0.9959255551493646], [0.19218804404940687, 0.19375163214822058, 0.1953152202470343, 0.19687880834584803, 0.19844239644466174, 0.20000598454347546, 0.20156957264228917, 0.20313316074110288, 0.2046967488399166, 0.20626033693873033  …  1.7401402618749866, 1.7417038499738005, 1.743267438072614, 1.744831026171428, 1.7463946142702416, 1.7479582023690552, 1.749521790467869, 1.7510853785666827, 1.7526489666654965, 1.7542125547643102], [0.001, 0.001, 0.001, 0.001, 0.001, 0.001, 0.001, 0.001, 0.001, 0.001  …  0.001, 0.001, 0.001, 0.001, 0.001, 0.001, 0.001, 0.001, 0.001, 0.001]), PolyTransform{Int64,Float64}(2, 2.5), 1.6419839999999999, 7.0), ACE.SphericalHarmonics.SHBasis{Float64}(7, ACE.SphericalHarmonics.ALPCoefficients{Float64}([3.4e-322, 0.0, 2.2610418477e-314, 1.9364916731037085, 1.43e-322, 1.04e-322, 1.9720265943665387, 2.091650066335189, 2.463165819e-314, 5.4e-323  …  0.0, 2.4625842127e-314, 1.9948914348241344, 2.0155644370746373, 2.0816659994661326, 2.207940216581962, 2.4308621740219887, 2.850438562747845, 1.1e-322, 0.0], [3.4e-322, 0.0, 2.2610418477e-314, -0.5773502691896257, 1.43e-322, 1.04e-322, -0.5163977794943222, -0.4472135954999579, 2.463165819e-314, 5.4e-323  …  0.0, 2.4625842127e-314, -0.5017452060042545, -0.4947274449181537, -0.47304991679126607, -0.4345240946267408, -0.3739787960033829, -0.2773500981126146, 1.1e-322, 2.550745326e-314])), JuLIP.Potentials.SZList{1}(AtomicNumber[<74>]), ACE.RPI.PSH1pBasisFcn[znlm[0|1,0,0], znlm[0|1,1,-1], znlm[0|1,1,0], znlm[0|1,1,1], znlm[0|1,2,-2], znlm[0|1,2,-1], znlm[0|1,2,0], znlm[0|1,2,1], znlm[0|1,2,2], znlm[0|1,3,-3]  …  znlm[0|9,2,-1], znlm[0|9,2,0], znlm[0|9,2,1], znlm[0|9,2,2], znlm[0|10,0,0], znlm[0|10,1,-1], znlm[0|10,1,0], znlm[0|10,1,1], znlm[0|11,0,0], znlm[0|12,0,0]], UnitRange{Int64}[1:288]), JuLIP.Potentials.SZList{1}(AtomicNumber[<74>]), (ACE.InnerPIBasis([1, 1, 1, 1, 1, 1, 1, 1, 1, 1  …  3, 3, 3, 3, 3, 3, 3, 3, 3, 3], [1 0 0; 65 0 0; … ; 114 163 199; 163 163 163], Dict{ACE.PIBasisFcn,Int64}(ACE.PIBasisFcn{3,ACE.RPI.PSH1pBasisFcn}(<74>, (znlm[74|3,0,0], znlm[74|3,0,0], znlm[74|4,0,0]), ACE.RPI.PSH1pBasisFcn) => 771,ACE.PIBasisFcn{3,ACE.RPI.PSH1pBasisFcn}(<74>, (znlm[74|1,1,1], znlm[74|1,2,-1], znlm[74|4,1,0]), ACE.RPI.PSH1pBasisFcn) => 596,ACE.PIBasisFcn{3,ACE.RPI.PSH1pBasisFcn}(<74>, (znlm[74|2,2,0], znlm[74|3,0,0], znlm[74|3,0,0]), ACE.RPI.PSH1pBasisFcn) => 767,ACE.PIBasisFcn{2,ACE.RPI.PSH1pBasisFcn}(<74>, (znlm[74|1,2,0], znlm[74|3,2,0]), ACE.RPI.PSH1pBasisFcn) => 103,ACE.PIBasisFcn{3,ACE.RPI.PSH1pBasisFcn}(<74>, (znlm[74|1,1,0], znlm[74|1,2,0], znlm[74|1,3,0]), ACE.RPI.PSH1pBasisFcn) => 545,ACE.PIBasisFcn{3,ACE.RPI.PSH1pBasisFcn}(<74>, (znlm[74|1,3,1], znlm[74|2,1,-1], znlm[74|3,0,0]), ACE.RPI.PSH1pBasisFcn) => 694,ACE.PIBasisFcn{3,ACE.RPI.PSH1pBasisFcn}(<74>, (znlm[74|1,1,0], znlm[74|1,3,0], znlm[74|4,0,0]), ACE.RPI.PSH1pBasisFcn) => 556,ACE.PIBasisFcn{3,ACE.RPI.PSH1pBasisFcn}(<74>, (znlm[74|1,0,0], znlm[74|1,2,0], znlm[74|5,0,0]), ACE.RPI.PSH1pBasisFcn) => 353,ACE.PIBasisFcn{3,ACE.RPI.PSH1pBasisFcn}(<74>, (znlm[74|1,1,0], znlm[74|1,2,2], znlm[74|1,3,-2]), ACE.RPI.PSH1pBasisFcn) => 553,ACE.PIBasisFcn{2,ACE.RPI.PSH1pBasisFcn}(<74>, (znlm[74|1,1,-1], znlm[74|5,3,1]), ACE.RPI.PSH1pBasisFcn) => 50…), Dict{Any,Int64}(znlm[74|8,2,-1] => 270,znlm[74|3,1,0] => 116,znlm[74|6,3,1] => 237,znlm[74|2,2,-2] => 69,znlm[74|2,1,1] => 68,znlm[74|4,3,-3] => 172,znlm[74|4,5,5] => 198,znlm[74|3,2,0] => 120,znlm[74|2,4,-4] => 81,znlm[74|6,3,-3] => 233…), 1:778, <74>, ACE.DAG.CorrEvalGraph{Int64,Int64}([(1, 0), (2, 0), (3, 0), (4, 0), (5, 0), (6, 0), (7, 0), (8, 0), (9, 0), (10, 0)  …  (407, 114), (407, 120), (407, 163), (407, 199), (407, 224), (114, 409), (114, 412), (408, 163), (408, 199), (417, 163)], [1, 0, 0, 0, 0, 0, 0, 0, 0, 0  …  769, 770, 771, 772, 773, 774, 775, 776, 777, 778], 288, 459)),), ACE.DAGEvaluator()), (\n",
       "  [1  ,   1]  =  1.0\n",
       "  [2  ,   2]  =  1.0\n",
       "  [3  ,   3]  =  1.0\n",
       "  [4  ,   4]  =  1.0\n",
       "  [5  ,   5]  =  1.0\n",
       "  [6  ,   6]  =  1.0\n",
       "  [7  ,   7]  =  1.0\n",
       "  [8  ,   8]  =  1.0\n",
       "  [9  ,   9]  =  1.0\n",
       "  [10 ,  10]  =  1.0\n",
       "  [11 ,  11]  =  1.0\n",
       "  [12 ,  12]  =  1.0\n",
       "  ⋮\n",
       "  [197, 763]  =  -0.632456\n",
       "  [201, 764]  =  -0.57735\n",
       "  [202, 765]  =  -0.57735\n",
       "  [203, 766]  =  -0.57735\n",
       "  [204, 769]  =  2.44949\n",
       "  [205, 771]  =  1.41421\n",
       "  [206, 772]  =  1.41421\n",
       "  [207, 773]  =  1.41421\n",
       "  [208, 774]  =  -1.63299\n",
       "  [208, 775]  =  0.816497\n",
       "  [209, 776]  =  1.41421\n",
       "  [210, 777]  =  1.0\n",
       "  [211, 778]  =  2.44949,), (1:211,))"
      ]
     },
     "execution_count": 4,
     "metadata": {},
     "output_type": "execute_result"
    }
   ],
   "source": [
    "species = :W\n",
    "basis = get_basis(:W; N = 3, maxdeg = 12, rcut = 6.0)\n"
   ]
  },
  {
   "cell_type": "code",
   "execution_count": null,
   "metadata": {},
   "outputs": [],
   "source": []
  }
 ],
 "metadata": {
  "kernelspec": {
   "display_name": "Julia 1.5.1",
   "language": "julia",
   "name": "julia-1.5"
  },
  "language_info": {
   "file_extension": ".jl",
   "mimetype": "application/julia",
   "name": "julia",
   "version": "1.5.1"
  }
 },
 "nbformat": 4,
 "nbformat_minor": 4
}
